{
 "cells": [
  {
   "cell_type": "code",
   "execution_count": 69,
   "metadata": {},
   "outputs": [],
   "source": [
    "import pandas as pd\n",
    "from glob import glob\n",
    "import os\n",
    "import warnings"
   ]
  },
  {
   "cell_type": "code",
   "execution_count": 70,
   "metadata": {},
   "outputs": [
    {
     "name": "stderr",
     "output_type": "stream",
     "text": [
      "/Library/Frameworks/Python.framework/Versions/3.7/lib/python3.7/site-packages/ipykernel_launcher.py:24: UserWarning: File 0028.20210208.5fe798172fd45c14e596930d.csv is flagged. Skipping first row...\n"
     ]
    }
   ],
   "source": [
    "# Collect and parse data.\n",
    "\n",
    "DATA_PATH = './data'\n",
    "data_ext = '*.csv'\n",
    "\n",
    "search_path = os.path.join(DATA_PATH, data_ext)\n",
    "filenames = glob(search_path)\n",
    "assert filenames, 'No files found matching pattern {}.'.format(\n",
    "    os.path.abspath(search_path)\n",
    ")\n",
    "\n",
    "scales = ['Busy', 'Fused', 'Kaleidoscopic']\n",
    "method = 'spearman'\n",
    "\n",
    "orig, stat, spec = pd.DataFrame(), pd.DataFrame(), pd.DataFrame()\n",
    "\n",
    "for file in filenames:\n",
    "    df = pd.read_csv(file)\n",
    "\n",
    "    # Parse data with a warning message in first row.\n",
    "    if df.columns.size == 1:\n",
    "        warnings.warn(\n",
    "            'File {} is flagged. Skipping first row...'.format(\n",
    "                os.path.basename(file)\n",
    "            )\n",
    "        )\n",
    "        df = pd.read_csv(file, skiprows=1)\n",
    "\n",
    "    orig = orig.append(df[df['type'] == 'O'])\n",
    "    stat = stat.append(df[df['type'] == '32R'])\n",
    "    spec = spec.append(df[df['type'] == 'S'])\n",
    "\n",
    "orig = orig.reset_index(drop=True)\n",
    "stat = stat.reset_index(drop=True)\n",
    "spec = spec.reset_index(drop=True)"
   ]
  },
  {
   "cell_type": "markdown",
   "metadata": {},
   "source": [
    "### Data analysis TODO:\n",
    "\n",
    "1. Calculate correlations per subject, then average correlations.\n",
    "2. ALSO, average ratings across subjects, then computer correlations.\n",
    "   e.g. AVERAGE ALL RATINGS between subjects, then computer one correlation.\n",
    " \n",
    "3. Do both spearman and pearson. In both cases, also do r**2. (square before\n",
    "      averaging).\n",
    "\n",
    "4. how does this break down per stimulus?\n",
    "    - groups: orig, resynth, spectral (20 * 3 = 60 stimuli)\n",
    "    - for each stimulus, calculate correlation between re-syntheses. (analysis level, statistical power not important at this juncture)."
   ]
  },
  {
   "cell_type": "code",
   "execution_count": 71,
   "metadata": {},
   "outputs": [],
   "source": [
    "def ave_corr(df, method, r2=False):\n",
    "    \"\"\"Correlations from averaging ratings over each stimulus.\"\"\"\n",
    "    tmp = df.groupby(df['stimNo']).mean()\n",
    "    \n",
    "    if r2:\n",
    "        tmp = tmp ** 2\n",
    "    \n",
    "    return tmp[scales].corr(method=method)\n",
    "\n",
    "def ave_corrwith(df1, df2, method, r2=False):\n",
    "    \"\"\"Cross-scale correlations from averaging ratings over each stimulus.\"\"\"\n",
    "    tmp1 = df1.groupby(df1['stimNo']).mean()\n",
    "    tmp1 = tmp1.reset_index()[scales]\n",
    "    \n",
    "    tmp2 = df2.groupby(df2['stimNo']).mean()\n",
    "    tmp2 = tmp2.reset_index()[scales]\n",
    "    \n",
    "    return tmp1.corrwith(tmp2, method=method)\n",
    "\n",
    "\n",
    "def subject_corr(df1, method, r2=False):\n",
    "    \"\"\"Internal subjects scale correlations. Correlations are averaged across subjects.\"\"\"\n",
    "    tmp = df[scales].groupby(df['participant']).corr(method=method)\n",
    "    \n",
    "    if r2:\n",
    "        tmp = tmp ** 2\n",
    "    \n",
    "    return tmp.mean(level=1)\n",
    "\n",
    "def subject_corrwith(df1, df2, method, r2=False):\n",
    "    \"\"\"Internal subjects cross-scale correlations. Correlations are averaged across subjects.\"\"\"\n",
    "    tmp = pd.DataFrame()\n",
    "    \n",
    "    grouped1 = df1[scales].groupby(df1['participant'])\n",
    "    grouped2 = df2[scales].groupby(df2['participant'])\n",
    "\n",
    "    for (participant_no, ratings1), (_, ratings2) in zip(grouped1, grouped2):\n",
    "        tmp[participant_no] = ratings1.corrwith(ratings2, method=method)\n",
    "        \n",
    "    if r2:\n",
    "        tmp = tmp ** 2\n",
    "\n",
    "    return tmp.mean(axis=1)"
   ]
  },
  {
   "cell_type": "code",
   "execution_count": 78,
   "metadata": {},
   "outputs": [
    {
     "data": {
      "text/plain": [
       "Busy             0.321466\n",
       "Fused            0.170662\n",
       "Kaleidoscopic    0.233556\n",
       "dtype: float64"
      ]
     },
     "metadata": {},
     "output_type": "display_data"
    },
    {
     "data": {
      "text/html": [
       "<div>\n",
       "<style scoped>\n",
       "    .dataframe tbody tr th:only-of-type {\n",
       "        vertical-align: middle;\n",
       "    }\n",
       "\n",
       "    .dataframe tbody tr th {\n",
       "        vertical-align: top;\n",
       "    }\n",
       "\n",
       "    .dataframe thead th {\n",
       "        text-align: right;\n",
       "    }\n",
       "</style>\n",
       "<table border=\"1\" class=\"dataframe\">\n",
       "  <thead>\n",
       "    <tr style=\"text-align: right;\">\n",
       "      <th></th>\n",
       "      <th>Busy</th>\n",
       "      <th>Fused</th>\n",
       "      <th>Kaleidoscopic</th>\n",
       "    </tr>\n",
       "  </thead>\n",
       "  <tbody>\n",
       "    <tr>\n",
       "      <th>Busy</th>\n",
       "      <td>1.000000</td>\n",
       "      <td>-0.435965</td>\n",
       "      <td>0.455399</td>\n",
       "    </tr>\n",
       "    <tr>\n",
       "      <th>Fused</th>\n",
       "      <td>-0.435965</td>\n",
       "      <td>1.000000</td>\n",
       "      <td>-0.435945</td>\n",
       "    </tr>\n",
       "    <tr>\n",
       "      <th>Kaleidoscopic</th>\n",
       "      <td>0.455399</td>\n",
       "      <td>-0.435945</td>\n",
       "      <td>1.000000</td>\n",
       "    </tr>\n",
       "  </tbody>\n",
       "</table>\n",
       "</div>"
      ],
      "text/plain": [
       "                   Busy     Fused  Kaleidoscopic\n",
       "Busy           1.000000 -0.435965       0.455399\n",
       "Fused         -0.435965  1.000000      -0.435945\n",
       "Kaleidoscopic  0.455399 -0.435945       1.000000"
      ]
     },
     "metadata": {},
     "output_type": "display_data"
    },
    {
     "data": {
      "text/plain": [
       "Busy             0.765680\n",
       "Fused           -0.182910\n",
       "Kaleidoscopic    0.215894\n",
       "dtype: float64"
      ]
     },
     "metadata": {},
     "output_type": "display_data"
    },
    {
     "data": {
      "image/png": "[encoded data removed]",
      "text/plain": [
       "<Figure size 432x288 with 2 Axes>"
      ]
     },
     "metadata": {
      "needs_background": "light"
     },
     "output_type": "display_data"
    }
   ],
   "source": [
    "import matplotlib.pyplot as plt\n",
    "import seaborn as sns\n",
    "\n",
    "r2 = False\n",
    "method='pearson'\n",
    "\n",
    "plt.title('Hello')\n",
    "sns.heatmap(subject_corr(orig, method, r2=r2))\n",
    "display(subject_corrwith(orig, spec, method, r2=r2))\n",
    "\n",
    "display(ave_corr(orig, method, r2=r2))\n",
    "display(ave_corrwith(orig, spec, method, r2=r2))\n"
   ]
  },
  {
   "cell_type": "code",
   "execution_count": 68,
   "metadata": {},
   "outputs": [
    {
     "data": {
      "text/plain": [
       "stimNo           1.000000\n",
       "Busy             0.854850\n",
       "Fused            0.279197\n",
       "Kaleidoscopic    0.726341\n",
       "dtype: float64"
      ]
     },
     "execution_count": 68,
     "metadata": {},
     "output_type": "execute_result"
    }
   ],
   "source": [
    "# df1 = orig\n",
    "# df2 = stat\n",
    "# method = 'pearson'\n",
    "\n",
    "\n",
    "# tmp1 = df1.groupby(df1['stimNo']).mean()\n",
    "# tmp2 = df2.groupby(df2['stimNo']).mean()\n",
    "    \n",
    "# tmp1[scales].reset_index().corrwith(tmp2[scales].reset_index(), method=method)"
   ]
  },
  {
   "cell_type": "code",
   "execution_count": 74,
   "metadata": {},
   "outputs": [
    {
     "name": "stdout",
     "output_type": "stream",
     "text": [
      "\n",
      "Original excerpts...\n",
      "                   Busy     Fused  Kaleidoscopic\n",
      "Busy           1.000000 -0.076543       0.171798\n",
      "Fused         -0.076543  1.000000      -0.053558\n",
      "Kaleidoscopic  0.171798 -0.053558       1.000000\n",
      "\n",
      "Statistical resynth...\n",
      "                   Busy     Fused  Kaleidoscopic\n",
      "Busy           1.000000 -0.004254       0.200413\n",
      "Fused         -0.004254  1.000000       0.007080\n",
      "Kaleidoscopic  0.200413  0.007080       1.000000\n",
      "\n",
      "Spectral resynth...\n",
      "                   Busy     Fused  Kaleidoscopic\n",
      "Busy           1.000000  0.009279       0.085947\n",
      "Fused          0.009279  1.000000       0.036259\n",
      "Kaleidoscopic  0.085947  0.036259       1.000000\n",
      "\n",
      "Original corr. Statistics\n",
      "Busy             0.494088\n",
      "Fused            0.464473\n",
      "Kaleidoscopic    0.444739\n",
      "dtype: float64\n",
      "\n",
      "Original corr. Spectral\n",
      "Busy             0.261062\n",
      "Fused            0.068675\n",
      "Kaleidoscopic    0.254096\n",
      "dtype: float64\n"
     ]
    }
   ],
   "source": [
    "# Old statistics (for comparison to new methods only, not valid)...\n",
    "\n",
    "print('\\nOriginal excerpts...')\n",
    "print(orig[scales].corr(method=method))\n",
    "\n",
    "print('\\nStatistical resynth...')\n",
    "print(stat[scales].corr(method=method))\n",
    "\n",
    "print('\\nSpectral resynth...')\n",
    "print(spec[scales].corr(method=method))\n",
    "\n",
    "print('\\nOriginal corr. Statistics')\n",
    "print(orig[scales].corrwith(stat[scales], method=method))\n",
    "\n",
    "print('\\nOriginal corr. Spectral')\n",
    "print(orig[scales].corrwith(spec[scales], method=method))"
   ]
  },
  {
   "cell_type": "code",
   "execution_count": null,
   "metadata": {},
   "outputs": [],
   "source": []
  },
  {
   "cell_type": "code",
   "execution_count": null,
   "metadata": {},
   "outputs": [],
   "source": []
  }
 ],
 "metadata": {
  "kernelspec": {
   "display_name": "Python 3",
   "language": "python",
   "name": "python3"
  },
  "language_info": {
   "codemirror_mode": {
    "name": "ipython",
    "version": 3
   },
   "file_extension": ".py",
   "mimetype": "text/x-python",
   "name": "python",
   "nbconvert_exporter": "python",
   "pygments_lexer": "ipython3",
   "version": "3.7.3"
  }
 },
 "nbformat": 4,
 "nbformat_minor": 4
}
